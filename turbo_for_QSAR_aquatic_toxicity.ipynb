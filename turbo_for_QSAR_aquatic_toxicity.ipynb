{
 "cells": [
  {
   "cell_type": "code",
   "execution_count": 30,
   "metadata": {},
   "outputs": [],
   "source": [
    "import numpy as np\n",
    "import pandas as pd\n",
    "import pickle\n",
    "from optimizers import startModifiedTurboOptimizer\n",
    "from utils import find_closest_point"
   ]
  },
  {
   "cell_type": "code",
   "execution_count": 31,
   "metadata": {},
   "outputs": [],
   "source": [
    "# load data in pandas dataframe from qsar_aquatic_toxicity.csv\n",
    "data = pd.read_csv('qsar_aquatic_toxicity.csv', sep=';', header=None)\n",
    "\n",
    "# set column names to x1, x2, ..., xn, y for length of data-1\n",
    "column_names = ['x' + str(i) for i in range(1, len(data.columns))]\n",
    "column_names.append('y')\n",
    "data.columns = column_names"
   ]
  },
  {
   "cell_type": "code",
   "execution_count": 45,
   "metadata": {},
   "outputs": [],
   "source": [
    "# check each feature if the space is discrete or continuous\n",
    "discrete = []\n",
    "for column in data.columns[:-1]:\n",
    "    if len(data[column].unique()) < 10:\n",
    "        discrete.append('int')\n",
    "    else:\n",
    "        discrete.append('real')"
   ]
  },
  {
   "cell_type": "code",
   "execution_count": 32,
   "metadata": {},
   "outputs": [],
   "source": [
    "# Function to convert observations in a dataframe to a list of dictionaries\n",
    "\n",
    "def get_all_observations(df):\n",
    "    '''\n",
    "    df is a dataframe with columns x1, x2, ..., xn and y.\n",
    "    Outputs the dataframe as list of dictionaries of observations of format:\n",
    "    [{X: {'x1': 0.42434, 'x2': 0.385025, 'x3': 0.359904, 'x4': 0.411092}, Y: 0.607759}, ...]\n",
    "    '''\n",
    "    observations = []\n",
    "    for i in range(len(df)):\n",
    "        observation = {}\n",
    "        observation['X'] = df.iloc[i, :-1].to_dict()\n",
    "        observation['Y'] = df.iloc[i, -1]\n",
    "        observations.append(observation)\n",
    "    return observations"
   ]
  },
  {
   "cell_type": "code",
   "execution_count": 33,
   "metadata": {},
   "outputs": [],
   "source": [
    "# Get all instances from the dataframe as a list of dictionaries\n",
    "\n",
    "observations = get_all_observations(data)\n",
    "\n",
    "all_X_list = []\n",
    "all_y_list = []\n",
    "\n",
    "for observation in observations:\n",
    "    all_X_list.append(observation['X'])\n",
    "    all_y_list.append(observation['Y'])"
   ]
  },
  {
   "cell_type": "code",
   "execution_count": 34,
   "metadata": {},
   "outputs": [],
   "source": [
    "# Get a random sample of 50 observations from the data to initialize the model\n",
    "# This is supposed to simulate making 50 experiments with random parameters\n",
    "\n",
    "sample = data.sample(n=50)\n",
    "observations = get_all_observations(sample)\n",
    "\n",
    "initial_X_list = []\n",
    "initial_y_list = []\n",
    "\n",
    "for observation in observations:\n",
    "    initial_X_list.append(observation['X'])\n",
    "    initial_y_list.append(observation['Y'])\n",
    "\n",
    "config = {\n",
    "        'x1': {'type': discrete[0], 'space': 'linear'},\n",
    "        'x2': {'type': discrete[1], 'space': 'linear'},\n",
    "        'x3': {'type': discrete[2], 'space': 'linear'},\n",
    "        'x4': {'type': discrete[3], 'space': 'linear'},\n",
    "        'x5': {'type': discrete[4], 'space': 'linear'},\n",
    "        'x6': {'type': discrete[5], 'space': 'linear'},\n",
    "        'x7': {'type': discrete[6], 'space': 'linear'},\n",
    "        'x8': {'type': discrete[7], 'space': 'linear'}\n",
    "    }\n",
    "\n",
    "# get actual max and min range from data\n",
    "for key in config.keys():\n",
    "    config[key]['range'] = [data[key].min(), data[key].max()]"
   ]
  },
  {
   "cell_type": "code",
   "execution_count": 35,
   "metadata": {},
   "outputs": [],
   "source": [
    "# Running the optimizer for for 15, 30, 45, 60, 75, 90 iterations\n",
    "# And 10 times for each iteration cycle\n",
    "# This can take a long time, so we save the results to a pickle file\n",
    "# If we want to keep working with previously saved results, we can set reload to False\n",
    "reload = True"
   ]
  },
  {
   "cell_type": "code",
   "execution_count": 36,
   "metadata": {},
   "outputs": [],
   "source": [
    "# We initialize the optimizer with the initial 50 observations\n",
    "# After requestng a new query, we find the known point with the shortest Euclidean distances\n",
    "# to the suggested next query in the full dataset of experimental results\n",
    "# We then observe that closest known point with the optimizer\n",
    "# This allows us to simulate the optimizer making experiments with random parameters\n",
    "# and then using the results of those experiments to make better suggestions\n",
    "\n",
    "test_iteration_cycles = [15, 30, 45, 60, 75, 90]\n",
    "test_per_cycle = 10\n",
    "\n",
    "if reload:\n",
    "    results = {}\n",
    "\n",
    "    for iteration_cycle in test_iteration_cycles:\n",
    "        results[iteration_cycle] = []\n",
    "        queries = []\n",
    "        known_Y = []\n",
    "        for i in range(test_per_cycle):\n",
    "            # Start the optimizer\n",
    "            turbo_optimizer = startModifiedTurboOptimizer(config, initial_X_list, initial_y_list)\n",
    "            batch = []\n",
    "            for j in range(iteration_cycle):\n",
    "                next_query = turbo_optimizer.suggest()[0]\n",
    "                queries.append(next_query)\n",
    "\n",
    "                closest_known_point_index = find_closest_point(next_query, all_X_list)\n",
    "\n",
    "                closest_known_X = all_X_list[closest_known_point_index]\n",
    "                closest_known_Y = all_y_list[closest_known_point_index]\n",
    "\n",
    "                known_Y.append(closest_known_Y)\n",
    "                batch.append(closest_known_Y)\n",
    "\n",
    "                turbo_optimizer.observe([closest_known_X], [-closest_known_Y])\n",
    "\n",
    "            results[iteration_cycle].append(batch)\n",
    "\n",
    "    # save results to a pickle file\n",
    "    with open('results.pkl', 'wb') as f:\n",
    "        pickle.dump(results, f)\n",
    "\n",
    "else:\n",
    "    # load results from pickle file\n",
    "    with open('results.pkl', 'rb') as f:\n",
    "        results = pickle.load(f)"
   ]
  },
  {
   "cell_type": "code",
   "execution_count": 37,
   "metadata": {},
   "outputs": [
    {
     "data": {
      "image/png": "[encoded data removed]",
      "text/plain": [
       "<Figure size 640x480 with 1 Axes>"
      ]
     },
     "metadata": {},
     "output_type": "display_data"
    }
   ],
   "source": [
    "# Plot the mean and standard deviation of the max y value found at each iteration cycle size\n",
    "\n",
    "import matplotlib.pyplot as plt\n",
    "\n",
    "max_results = {}\n",
    "mean_results = []\n",
    "std_results = []\n",
    "\n",
    "for iteration_cycle in results.keys():\n",
    "    max_results[iteration_cycle] = []\n",
    "    for batch in results[iteration_cycle]:\n",
    "        max_results[iteration_cycle].append(max(batch))\n",
    "\n",
    "for iteration_cycle in max_results.keys():\n",
    "    mean_results.append(np.mean(max_results[iteration_cycle]))\n",
    "    std_results.append(np.std(max_results[iteration_cycle]))\n",
    "\n",
    "plt.errorbar(\n",
    "    x = list(max_results.keys()),\n",
    "    y = mean_results,\n",
    "    yerr = std_results,\n",
    "    fmt = 'o'\n",
    "    )\n",
    "plt.xlabel('Iteration Cycle Size')\n",
    "plt.ylabel('Max y Value Found')\n",
    "plt.title('Max y Value Found vs Iteration Cycle Size')\n",
    "plt.show()"
   ]
  },
  {
   "cell_type": "code",
   "execution_count": 42,
   "metadata": {},
   "outputs": [
    {
     "name": "stdout",
     "output_type": "stream",
     "text": [
      "Iteration Cycle Size\tRank\tMean Max y Value Found\n",
      "15\t\t\t73\t\t6.424\n",
      "30\t\t\t12\t\t8.509\n",
      "45\t\t\t13\t\t8.429\n",
      "60\t\t\t12\t\t8.509\n",
      "75\t\t\t10\t\t8.702\n",
      "90\t\t\t8\t\t8.88\n"
     ]
    }
   ],
   "source": [
    "# write a function that takes a number and returns the rank of that number in all_y_list\n",
    "# this will be used to plot the rank of the max y value found at each iteration cycle size\n",
    "\n",
    "performance = {}\n",
    "\n",
    "for i, c in enumerate(test_iteration_cycles):\n",
    "    # find the closest value in all_y_list to y\n",
    "    # return the rank of that value in all_y_list\n",
    "\n",
    "    # format as dictionaries to use find_closest_point function\n",
    "    y_dict = {'y': mean_results[i]}\n",
    "    all_y_dict_list = []\n",
    "    for y in all_y_list:\n",
    "        all_y_dict_list.append({'y': y})\n",
    "\n",
    "    closest_index = find_closest_point(y_dict, all_y_dict_list)\n",
    "\n",
    "    # find the rank of that value in all_y_list by sorting all_y_list descending\n",
    "    rank = sorted(all_y_list, reverse=True).index(all_y_list[closest_index])\n",
    "\n",
    "    performance[list(max_results.keys())[i]] = (rank, round(mean_results[i], 3))\n",
    "\n",
    "# print performance of each iteration cycle size and the rank and mean of the max y value found in 10 runs\n",
    "print('Iteration Cycle Size\\tRank\\tMean Max y Value Found')\n",
    "for key in performance.keys():\n",
    "    print('{}\\t\\t\\t{}\\t\\t{}'.format(key, performance[key][0], performance[key][1]))"
   ]
  },
  {
   "cell_type": "markdown",
   "metadata": {},
   "source": [
    "Results:\n",
    "\n",
    "When given 50 random initial observations from the set of 546 experimental results, the Turbo-based optimizer made 10xN (n=[15, 30, 45, 60, 75, 90]) suggestions and observed the known data point closest to the suggested point. We judge performance by the mean of the max of the closest known point to the suggested points of the 10 tests.\n",
    "\n",
    "We can see that at 15 sequencial observations, the mean of the best suggestions would have been the 73d experimental value ranked from least highest to lowest.\n",
    "Immediatly at 30 iterations per run, the performance is much better. This is connected to that the optimizer is configured to prioritize exploration in the first 10 queries, and becomes more exploitation focused after that. \n",
    "\n",
    "There is an upward trend with larger iteration numbers, but the improvement is not dramatic. At 30 iterations, the optimizer discovers points that are close to the optimum.\n",
    "\n",
    "These results indicate that using Baysean Optimization to suggest candidate molecules is a strategy worth exploring. Synthesizing molecules for toxicity testing is very expenive and time consuming, and this strategy may potentially reduce the number of experimments."
   ]
  }
 ],
 "metadata": {
  "kernelspec": {
   "display_name": "mangocapstone",
   "language": "python",
   "name": "python3"
  },
  "language_info": {
   "codemirror_mode": {
    "name": "ipython",
    "version": 3
   },
   "file_extension": ".py",
   "mimetype": "text/x-python",
   "name": "python",
   "nbconvert_exporter": "python",
   "pygments_lexer": "ipython3",
   "version": "3.11.4"
  }
 },
 "nbformat": 4,
 "nbformat_minor": 2
}
